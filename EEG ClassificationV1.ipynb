{
 "cells": [
  {
   "cell_type": "code",
   "execution_count": 2,
   "metadata": {},
   "outputs": [],
   "source": [
    "import pandas as pd\n",
    "import seaborn as sns\n",
    "import numpy as np\n",
    "import matplotlib.pyplot as plt"
   ]
  },
  {
   "cell_type": "code",
   "execution_count": 3,
   "metadata": {},
   "outputs": [],
   "source": [
    "dataset = pd.read_csv('D:\\Projects\\Master Project ITEM Abdul\\Motor-Imagery-Tasks-Classification-using-EEG-data-master\\epileptic-seizures-dataset\\data.csv')"
   ]
  },
  {
   "cell_type": "code",
   "execution_count": 4,
   "metadata": {},
   "outputs": [
    {
     "data": {
      "text/plain": [
       "(11500, 180)"
      ]
     },
     "execution_count": 4,
     "metadata": {},
     "output_type": "execute_result"
    }
   ],
   "source": [
    "dataset.shape"
   ]
  },
  {
   "cell_type": "code",
   "execution_count": 5,
   "metadata": {
    "scrolled": true
   },
   "outputs": [
    {
     "data": {
      "text/html": [
       "<div>\n",
       "<style scoped>\n",
       "    .dataframe tbody tr th:only-of-type {\n",
       "        vertical-align: middle;\n",
       "    }\n",
       "\n",
       "    .dataframe tbody tr th {\n",
       "        vertical-align: top;\n",
       "    }\n",
       "\n",
       "    .dataframe thead th {\n",
       "        text-align: right;\n",
       "    }\n",
       "</style>\n",
       "<table border=\"1\" class=\"dataframe\">\n",
       "  <thead>\n",
       "    <tr style=\"text-align: right;\">\n",
       "      <th></th>\n",
       "      <th>Unnamed: 0</th>\n",
       "      <th>X1</th>\n",
       "      <th>X2</th>\n",
       "      <th>X3</th>\n",
       "      <th>X4</th>\n",
       "      <th>X5</th>\n",
       "      <th>X6</th>\n",
       "      <th>X7</th>\n",
       "      <th>X8</th>\n",
       "      <th>X9</th>\n",
       "      <th>...</th>\n",
       "      <th>X170</th>\n",
       "      <th>X171</th>\n",
       "      <th>X172</th>\n",
       "      <th>X173</th>\n",
       "      <th>X174</th>\n",
       "      <th>X175</th>\n",
       "      <th>X176</th>\n",
       "      <th>X177</th>\n",
       "      <th>X178</th>\n",
       "      <th>y</th>\n",
       "    </tr>\n",
       "  </thead>\n",
       "  <tbody>\n",
       "    <tr>\n",
       "      <th>0</th>\n",
       "      <td>X21.V1.791</td>\n",
       "      <td>135</td>\n",
       "      <td>190</td>\n",
       "      <td>229</td>\n",
       "      <td>223</td>\n",
       "      <td>192</td>\n",
       "      <td>125</td>\n",
       "      <td>55</td>\n",
       "      <td>-9</td>\n",
       "      <td>-33</td>\n",
       "      <td>...</td>\n",
       "      <td>-17</td>\n",
       "      <td>-15</td>\n",
       "      <td>-31</td>\n",
       "      <td>-77</td>\n",
       "      <td>-103</td>\n",
       "      <td>-127</td>\n",
       "      <td>-116</td>\n",
       "      <td>-83</td>\n",
       "      <td>-51</td>\n",
       "      <td>4</td>\n",
       "    </tr>\n",
       "    <tr>\n",
       "      <th>1</th>\n",
       "      <td>X15.V1.924</td>\n",
       "      <td>386</td>\n",
       "      <td>382</td>\n",
       "      <td>356</td>\n",
       "      <td>331</td>\n",
       "      <td>320</td>\n",
       "      <td>315</td>\n",
       "      <td>307</td>\n",
       "      <td>272</td>\n",
       "      <td>244</td>\n",
       "      <td>...</td>\n",
       "      <td>164</td>\n",
       "      <td>150</td>\n",
       "      <td>146</td>\n",
       "      <td>152</td>\n",
       "      <td>157</td>\n",
       "      <td>156</td>\n",
       "      <td>154</td>\n",
       "      <td>143</td>\n",
       "      <td>129</td>\n",
       "      <td>1</td>\n",
       "    </tr>\n",
       "    <tr>\n",
       "      <th>2</th>\n",
       "      <td>X8.V1.1</td>\n",
       "      <td>-32</td>\n",
       "      <td>-39</td>\n",
       "      <td>-47</td>\n",
       "      <td>-37</td>\n",
       "      <td>-32</td>\n",
       "      <td>-36</td>\n",
       "      <td>-57</td>\n",
       "      <td>-73</td>\n",
       "      <td>-85</td>\n",
       "      <td>...</td>\n",
       "      <td>57</td>\n",
       "      <td>64</td>\n",
       "      <td>48</td>\n",
       "      <td>19</td>\n",
       "      <td>-12</td>\n",
       "      <td>-30</td>\n",
       "      <td>-35</td>\n",
       "      <td>-35</td>\n",
       "      <td>-36</td>\n",
       "      <td>5</td>\n",
       "    </tr>\n",
       "    <tr>\n",
       "      <th>3</th>\n",
       "      <td>X16.V1.60</td>\n",
       "      <td>-105</td>\n",
       "      <td>-101</td>\n",
       "      <td>-96</td>\n",
       "      <td>-92</td>\n",
       "      <td>-89</td>\n",
       "      <td>-95</td>\n",
       "      <td>-102</td>\n",
       "      <td>-100</td>\n",
       "      <td>-87</td>\n",
       "      <td>...</td>\n",
       "      <td>-82</td>\n",
       "      <td>-81</td>\n",
       "      <td>-80</td>\n",
       "      <td>-77</td>\n",
       "      <td>-85</td>\n",
       "      <td>-77</td>\n",
       "      <td>-72</td>\n",
       "      <td>-69</td>\n",
       "      <td>-65</td>\n",
       "      <td>5</td>\n",
       "    </tr>\n",
       "    <tr>\n",
       "      <th>4</th>\n",
       "      <td>X20.V1.54</td>\n",
       "      <td>-9</td>\n",
       "      <td>-65</td>\n",
       "      <td>-98</td>\n",
       "      <td>-102</td>\n",
       "      <td>-78</td>\n",
       "      <td>-48</td>\n",
       "      <td>-16</td>\n",
       "      <td>0</td>\n",
       "      <td>-21</td>\n",
       "      <td>...</td>\n",
       "      <td>4</td>\n",
       "      <td>2</td>\n",
       "      <td>-12</td>\n",
       "      <td>-32</td>\n",
       "      <td>-41</td>\n",
       "      <td>-65</td>\n",
       "      <td>-83</td>\n",
       "      <td>-89</td>\n",
       "      <td>-73</td>\n",
       "      <td>5</td>\n",
       "    </tr>\n",
       "  </tbody>\n",
       "</table>\n",
       "<p>5 rows × 180 columns</p>\n",
       "</div>"
      ],
      "text/plain": [
       "   Unnamed: 0   X1   X2   X3   X4   X5   X6   X7   X8   X9  ...  X170  X171  \\\n",
       "0  X21.V1.791  135  190  229  223  192  125   55   -9  -33  ...   -17   -15   \n",
       "1  X15.V1.924  386  382  356  331  320  315  307  272  244  ...   164   150   \n",
       "2     X8.V1.1  -32  -39  -47  -37  -32  -36  -57  -73  -85  ...    57    64   \n",
       "3   X16.V1.60 -105 -101  -96  -92  -89  -95 -102 -100  -87  ...   -82   -81   \n",
       "4   X20.V1.54   -9  -65  -98 -102  -78  -48  -16    0  -21  ...     4     2   \n",
       "\n",
       "   X172  X173  X174  X175  X176  X177  X178  y  \n",
       "0   -31   -77  -103  -127  -116   -83   -51  4  \n",
       "1   146   152   157   156   154   143   129  1  \n",
       "2    48    19   -12   -30   -35   -35   -36  5  \n",
       "3   -80   -77   -85   -77   -72   -69   -65  5  \n",
       "4   -12   -32   -41   -65   -83   -89   -73  5  \n",
       "\n",
       "[5 rows x 180 columns]"
      ]
     },
     "execution_count": 5,
     "metadata": {},
     "output_type": "execute_result"
    }
   ],
   "source": [
    "dataset.head()"
   ]
  },
  {
   "cell_type": "code",
   "execution_count": 6,
   "metadata": {},
   "outputs": [
    {
     "data": {
      "text/html": [
       "<div>\n",
       "<style scoped>\n",
       "    .dataframe tbody tr th:only-of-type {\n",
       "        vertical-align: middle;\n",
       "    }\n",
       "\n",
       "    .dataframe tbody tr th {\n",
       "        vertical-align: top;\n",
       "    }\n",
       "\n",
       "    .dataframe thead th {\n",
       "        text-align: right;\n",
       "    }\n",
       "</style>\n",
       "<table border=\"1\" class=\"dataframe\">\n",
       "  <thead>\n",
       "    <tr style=\"text-align: right;\">\n",
       "      <th></th>\n",
       "      <th>Unnamed: 0</th>\n",
       "      <th>X1</th>\n",
       "      <th>X2</th>\n",
       "      <th>X3</th>\n",
       "      <th>X4</th>\n",
       "      <th>X5</th>\n",
       "      <th>X6</th>\n",
       "      <th>X7</th>\n",
       "      <th>X8</th>\n",
       "      <th>X9</th>\n",
       "      <th>...</th>\n",
       "      <th>X170</th>\n",
       "      <th>X171</th>\n",
       "      <th>X172</th>\n",
       "      <th>X173</th>\n",
       "      <th>X174</th>\n",
       "      <th>X175</th>\n",
       "      <th>X176</th>\n",
       "      <th>X177</th>\n",
       "      <th>X178</th>\n",
       "      <th>y</th>\n",
       "    </tr>\n",
       "  </thead>\n",
       "  <tbody>\n",
       "    <tr>\n",
       "      <th>11495</th>\n",
       "      <td>X22.V1.114</td>\n",
       "      <td>-22</td>\n",
       "      <td>-22</td>\n",
       "      <td>-23</td>\n",
       "      <td>-26</td>\n",
       "      <td>-36</td>\n",
       "      <td>-42</td>\n",
       "      <td>-45</td>\n",
       "      <td>-42</td>\n",
       "      <td>-45</td>\n",
       "      <td>...</td>\n",
       "      <td>15</td>\n",
       "      <td>16</td>\n",
       "      <td>12</td>\n",
       "      <td>5</td>\n",
       "      <td>-1</td>\n",
       "      <td>-18</td>\n",
       "      <td>-37</td>\n",
       "      <td>-47</td>\n",
       "      <td>-48</td>\n",
       "      <td>2</td>\n",
       "    </tr>\n",
       "    <tr>\n",
       "      <th>11496</th>\n",
       "      <td>X19.V1.354</td>\n",
       "      <td>-47</td>\n",
       "      <td>-11</td>\n",
       "      <td>28</td>\n",
       "      <td>77</td>\n",
       "      <td>141</td>\n",
       "      <td>211</td>\n",
       "      <td>246</td>\n",
       "      <td>240</td>\n",
       "      <td>193</td>\n",
       "      <td>...</td>\n",
       "      <td>-65</td>\n",
       "      <td>-33</td>\n",
       "      <td>-7</td>\n",
       "      <td>14</td>\n",
       "      <td>27</td>\n",
       "      <td>48</td>\n",
       "      <td>77</td>\n",
       "      <td>117</td>\n",
       "      <td>170</td>\n",
       "      <td>1</td>\n",
       "    </tr>\n",
       "    <tr>\n",
       "      <th>11497</th>\n",
       "      <td>X8.V1.28</td>\n",
       "      <td>14</td>\n",
       "      <td>6</td>\n",
       "      <td>-13</td>\n",
       "      <td>-16</td>\n",
       "      <td>10</td>\n",
       "      <td>26</td>\n",
       "      <td>27</td>\n",
       "      <td>-9</td>\n",
       "      <td>4</td>\n",
       "      <td>...</td>\n",
       "      <td>-65</td>\n",
       "      <td>-48</td>\n",
       "      <td>-61</td>\n",
       "      <td>-62</td>\n",
       "      <td>-67</td>\n",
       "      <td>-30</td>\n",
       "      <td>-2</td>\n",
       "      <td>-1</td>\n",
       "      <td>-8</td>\n",
       "      <td>5</td>\n",
       "    </tr>\n",
       "    <tr>\n",
       "      <th>11498</th>\n",
       "      <td>X10.V1.932</td>\n",
       "      <td>-40</td>\n",
       "      <td>-25</td>\n",
       "      <td>-9</td>\n",
       "      <td>-12</td>\n",
       "      <td>-2</td>\n",
       "      <td>12</td>\n",
       "      <td>7</td>\n",
       "      <td>19</td>\n",
       "      <td>22</td>\n",
       "      <td>...</td>\n",
       "      <td>121</td>\n",
       "      <td>135</td>\n",
       "      <td>148</td>\n",
       "      <td>143</td>\n",
       "      <td>116</td>\n",
       "      <td>86</td>\n",
       "      <td>68</td>\n",
       "      <td>59</td>\n",
       "      <td>55</td>\n",
       "      <td>3</td>\n",
       "    </tr>\n",
       "    <tr>\n",
       "      <th>11499</th>\n",
       "      <td>X16.V1.210</td>\n",
       "      <td>29</td>\n",
       "      <td>41</td>\n",
       "      <td>57</td>\n",
       "      <td>72</td>\n",
       "      <td>74</td>\n",
       "      <td>62</td>\n",
       "      <td>54</td>\n",
       "      <td>43</td>\n",
       "      <td>31</td>\n",
       "      <td>...</td>\n",
       "      <td>-59</td>\n",
       "      <td>-25</td>\n",
       "      <td>-4</td>\n",
       "      <td>2</td>\n",
       "      <td>5</td>\n",
       "      <td>4</td>\n",
       "      <td>-2</td>\n",
       "      <td>2</td>\n",
       "      <td>20</td>\n",
       "      <td>4</td>\n",
       "    </tr>\n",
       "  </tbody>\n",
       "</table>\n",
       "<p>5 rows × 180 columns</p>\n",
       "</div>"
      ],
      "text/plain": [
       "       Unnamed: 0  X1  X2  X3  X4   X5   X6   X7   X8   X9  ...  X170  X171  \\\n",
       "11495  X22.V1.114 -22 -22 -23 -26  -36  -42  -45  -42  -45  ...    15    16   \n",
       "11496  X19.V1.354 -47 -11  28  77  141  211  246  240  193  ...   -65   -33   \n",
       "11497    X8.V1.28  14   6 -13 -16   10   26   27   -9    4  ...   -65   -48   \n",
       "11498  X10.V1.932 -40 -25  -9 -12   -2   12    7   19   22  ...   121   135   \n",
       "11499  X16.V1.210  29  41  57  72   74   62   54   43   31  ...   -59   -25   \n",
       "\n",
       "       X172  X173  X174  X175  X176  X177  X178  y  \n",
       "11495    12     5    -1   -18   -37   -47   -48  2  \n",
       "11496    -7    14    27    48    77   117   170  1  \n",
       "11497   -61   -62   -67   -30    -2    -1    -8  5  \n",
       "11498   148   143   116    86    68    59    55  3  \n",
       "11499    -4     2     5     4    -2     2    20  4  \n",
       "\n",
       "[5 rows x 180 columns]"
      ]
     },
     "execution_count": 6,
     "metadata": {},
     "output_type": "execute_result"
    }
   ],
   "source": [
    "dataset.tail()"
   ]
  },
  {
   "cell_type": "code",
   "execution_count": 7,
   "metadata": {},
   "outputs": [
    {
     "name": "stdout",
     "output_type": "stream",
     "text": [
      "<class 'pandas.core.frame.DataFrame'>\n",
      "RangeIndex: 11500 entries, 0 to 11499\n",
      "Columns: 180 entries, Unnamed: 0 to y\n",
      "dtypes: int64(179), object(1)\n",
      "memory usage: 15.8+ MB\n"
     ]
    }
   ],
   "source": [
    "dataset.info()"
   ]
  },
  {
   "cell_type": "code",
   "execution_count": 8,
   "metadata": {},
   "outputs": [
    {
     "data": {
      "text/html": [
       "<div>\n",
       "<style scoped>\n",
       "    .dataframe tbody tr th:only-of-type {\n",
       "        vertical-align: middle;\n",
       "    }\n",
       "\n",
       "    .dataframe tbody tr th {\n",
       "        vertical-align: top;\n",
       "    }\n",
       "\n",
       "    .dataframe thead th {\n",
       "        text-align: right;\n",
       "    }\n",
       "</style>\n",
       "<table border=\"1\" class=\"dataframe\">\n",
       "  <thead>\n",
       "    <tr style=\"text-align: right;\">\n",
       "      <th></th>\n",
       "      <th>X1</th>\n",
       "      <th>X2</th>\n",
       "      <th>X3</th>\n",
       "      <th>X4</th>\n",
       "      <th>X5</th>\n",
       "      <th>X6</th>\n",
       "      <th>X7</th>\n",
       "      <th>X8</th>\n",
       "      <th>X9</th>\n",
       "      <th>X10</th>\n",
       "      <th>...</th>\n",
       "      <th>X170</th>\n",
       "      <th>X171</th>\n",
       "      <th>X172</th>\n",
       "      <th>X173</th>\n",
       "      <th>X174</th>\n",
       "      <th>X175</th>\n",
       "      <th>X176</th>\n",
       "      <th>X177</th>\n",
       "      <th>X178</th>\n",
       "      <th>y</th>\n",
       "    </tr>\n",
       "  </thead>\n",
       "  <tbody>\n",
       "    <tr>\n",
       "      <th>count</th>\n",
       "      <td>11500.000000</td>\n",
       "      <td>11500.000000</td>\n",
       "      <td>11500.000000</td>\n",
       "      <td>11500.000000</td>\n",
       "      <td>11500.000000</td>\n",
       "      <td>11500.000000</td>\n",
       "      <td>11500.000000</td>\n",
       "      <td>11500.00000</td>\n",
       "      <td>11500.00000</td>\n",
       "      <td>11500.000000</td>\n",
       "      <td>...</td>\n",
       "      <td>11500.000000</td>\n",
       "      <td>11500.000000</td>\n",
       "      <td>11500.000000</td>\n",
       "      <td>11500.000000</td>\n",
       "      <td>11500.000000</td>\n",
       "      <td>11500.000000</td>\n",
       "      <td>11500.000000</td>\n",
       "      <td>11500.000000</td>\n",
       "      <td>11500.000000</td>\n",
       "      <td>11500.000000</td>\n",
       "    </tr>\n",
       "    <tr>\n",
       "      <th>mean</th>\n",
       "      <td>-11.581391</td>\n",
       "      <td>-10.911565</td>\n",
       "      <td>-10.187130</td>\n",
       "      <td>-9.143043</td>\n",
       "      <td>-8.009739</td>\n",
       "      <td>-7.003478</td>\n",
       "      <td>-6.502087</td>\n",
       "      <td>-6.68713</td>\n",
       "      <td>-6.55800</td>\n",
       "      <td>-6.168435</td>\n",
       "      <td>...</td>\n",
       "      <td>-10.145739</td>\n",
       "      <td>-11.630348</td>\n",
       "      <td>-12.943478</td>\n",
       "      <td>-13.668870</td>\n",
       "      <td>-13.363304</td>\n",
       "      <td>-13.045043</td>\n",
       "      <td>-12.705130</td>\n",
       "      <td>-12.426000</td>\n",
       "      <td>-12.195652</td>\n",
       "      <td>3.000000</td>\n",
       "    </tr>\n",
       "    <tr>\n",
       "      <th>std</th>\n",
       "      <td>165.626284</td>\n",
       "      <td>166.059609</td>\n",
       "      <td>163.524317</td>\n",
       "      <td>161.269041</td>\n",
       "      <td>160.998007</td>\n",
       "      <td>161.328725</td>\n",
       "      <td>161.467837</td>\n",
       "      <td>162.11912</td>\n",
       "      <td>162.03336</td>\n",
       "      <td>160.436352</td>\n",
       "      <td>...</td>\n",
       "      <td>164.652883</td>\n",
       "      <td>166.149790</td>\n",
       "      <td>168.554058</td>\n",
       "      <td>168.556486</td>\n",
       "      <td>167.257290</td>\n",
       "      <td>164.241019</td>\n",
       "      <td>162.895832</td>\n",
       "      <td>162.886311</td>\n",
       "      <td>164.852015</td>\n",
       "      <td>1.414275</td>\n",
       "    </tr>\n",
       "    <tr>\n",
       "      <th>min</th>\n",
       "      <td>-1839.000000</td>\n",
       "      <td>-1838.000000</td>\n",
       "      <td>-1835.000000</td>\n",
       "      <td>-1845.000000</td>\n",
       "      <td>-1791.000000</td>\n",
       "      <td>-1757.000000</td>\n",
       "      <td>-1832.000000</td>\n",
       "      <td>-1778.00000</td>\n",
       "      <td>-1840.00000</td>\n",
       "      <td>-1867.000000</td>\n",
       "      <td>...</td>\n",
       "      <td>-1867.000000</td>\n",
       "      <td>-1865.000000</td>\n",
       "      <td>-1642.000000</td>\n",
       "      <td>-1723.000000</td>\n",
       "      <td>-1866.000000</td>\n",
       "      <td>-1863.000000</td>\n",
       "      <td>-1781.000000</td>\n",
       "      <td>-1727.000000</td>\n",
       "      <td>-1829.000000</td>\n",
       "      <td>1.000000</td>\n",
       "    </tr>\n",
       "    <tr>\n",
       "      <th>25%</th>\n",
       "      <td>-54.000000</td>\n",
       "      <td>-55.000000</td>\n",
       "      <td>-54.000000</td>\n",
       "      <td>-54.000000</td>\n",
       "      <td>-54.000000</td>\n",
       "      <td>-54.000000</td>\n",
       "      <td>-54.000000</td>\n",
       "      <td>-55.00000</td>\n",
       "      <td>-55.00000</td>\n",
       "      <td>-54.000000</td>\n",
       "      <td>...</td>\n",
       "      <td>-55.000000</td>\n",
       "      <td>-56.000000</td>\n",
       "      <td>-56.000000</td>\n",
       "      <td>-56.000000</td>\n",
       "      <td>-55.000000</td>\n",
       "      <td>-56.000000</td>\n",
       "      <td>-55.000000</td>\n",
       "      <td>-55.000000</td>\n",
       "      <td>-55.000000</td>\n",
       "      <td>2.000000</td>\n",
       "    </tr>\n",
       "    <tr>\n",
       "      <th>50%</th>\n",
       "      <td>-8.000000</td>\n",
       "      <td>-8.000000</td>\n",
       "      <td>-7.000000</td>\n",
       "      <td>-8.000000</td>\n",
       "      <td>-8.000000</td>\n",
       "      <td>-8.000000</td>\n",
       "      <td>-8.000000</td>\n",
       "      <td>-8.00000</td>\n",
       "      <td>-7.00000</td>\n",
       "      <td>-7.000000</td>\n",
       "      <td>...</td>\n",
       "      <td>-9.000000</td>\n",
       "      <td>-10.000000</td>\n",
       "      <td>-10.000000</td>\n",
       "      <td>-10.000000</td>\n",
       "      <td>-10.000000</td>\n",
       "      <td>-9.000000</td>\n",
       "      <td>-9.000000</td>\n",
       "      <td>-9.000000</td>\n",
       "      <td>-9.000000</td>\n",
       "      <td>3.000000</td>\n",
       "    </tr>\n",
       "    <tr>\n",
       "      <th>75%</th>\n",
       "      <td>34.000000</td>\n",
       "      <td>35.000000</td>\n",
       "      <td>36.000000</td>\n",
       "      <td>36.000000</td>\n",
       "      <td>35.000000</td>\n",
       "      <td>36.000000</td>\n",
       "      <td>35.000000</td>\n",
       "      <td>36.00000</td>\n",
       "      <td>36.00000</td>\n",
       "      <td>35.250000</td>\n",
       "      <td>...</td>\n",
       "      <td>34.000000</td>\n",
       "      <td>34.000000</td>\n",
       "      <td>33.000000</td>\n",
       "      <td>33.000000</td>\n",
       "      <td>34.000000</td>\n",
       "      <td>34.000000</td>\n",
       "      <td>34.000000</td>\n",
       "      <td>34.000000</td>\n",
       "      <td>34.000000</td>\n",
       "      <td>4.000000</td>\n",
       "    </tr>\n",
       "    <tr>\n",
       "      <th>max</th>\n",
       "      <td>1726.000000</td>\n",
       "      <td>1713.000000</td>\n",
       "      <td>1697.000000</td>\n",
       "      <td>1612.000000</td>\n",
       "      <td>1518.000000</td>\n",
       "      <td>1816.000000</td>\n",
       "      <td>2047.000000</td>\n",
       "      <td>2047.00000</td>\n",
       "      <td>2047.00000</td>\n",
       "      <td>2047.000000</td>\n",
       "      <td>...</td>\n",
       "      <td>1777.000000</td>\n",
       "      <td>1472.000000</td>\n",
       "      <td>1319.000000</td>\n",
       "      <td>1436.000000</td>\n",
       "      <td>1733.000000</td>\n",
       "      <td>1958.000000</td>\n",
       "      <td>2047.000000</td>\n",
       "      <td>2047.000000</td>\n",
       "      <td>1915.000000</td>\n",
       "      <td>5.000000</td>\n",
       "    </tr>\n",
       "  </tbody>\n",
       "</table>\n",
       "<p>8 rows × 179 columns</p>\n",
       "</div>"
      ],
      "text/plain": [
       "                 X1            X2            X3            X4            X5  \\\n",
       "count  11500.000000  11500.000000  11500.000000  11500.000000  11500.000000   \n",
       "mean     -11.581391    -10.911565    -10.187130     -9.143043     -8.009739   \n",
       "std      165.626284    166.059609    163.524317    161.269041    160.998007   \n",
       "min    -1839.000000  -1838.000000  -1835.000000  -1845.000000  -1791.000000   \n",
       "25%      -54.000000    -55.000000    -54.000000    -54.000000    -54.000000   \n",
       "50%       -8.000000     -8.000000     -7.000000     -8.000000     -8.000000   \n",
       "75%       34.000000     35.000000     36.000000     36.000000     35.000000   \n",
       "max     1726.000000   1713.000000   1697.000000   1612.000000   1518.000000   \n",
       "\n",
       "                 X6            X7           X8           X9           X10  \\\n",
       "count  11500.000000  11500.000000  11500.00000  11500.00000  11500.000000   \n",
       "mean      -7.003478     -6.502087     -6.68713     -6.55800     -6.168435   \n",
       "std      161.328725    161.467837    162.11912    162.03336    160.436352   \n",
       "min    -1757.000000  -1832.000000  -1778.00000  -1840.00000  -1867.000000   \n",
       "25%      -54.000000    -54.000000    -55.00000    -55.00000    -54.000000   \n",
       "50%       -8.000000     -8.000000     -8.00000     -7.00000     -7.000000   \n",
       "75%       36.000000     35.000000     36.00000     36.00000     35.250000   \n",
       "max     1816.000000   2047.000000   2047.00000   2047.00000   2047.000000   \n",
       "\n",
       "       ...          X170          X171          X172          X173  \\\n",
       "count  ...  11500.000000  11500.000000  11500.000000  11500.000000   \n",
       "mean   ...    -10.145739    -11.630348    -12.943478    -13.668870   \n",
       "std    ...    164.652883    166.149790    168.554058    168.556486   \n",
       "min    ...  -1867.000000  -1865.000000  -1642.000000  -1723.000000   \n",
       "25%    ...    -55.000000    -56.000000    -56.000000    -56.000000   \n",
       "50%    ...     -9.000000    -10.000000    -10.000000    -10.000000   \n",
       "75%    ...     34.000000     34.000000     33.000000     33.000000   \n",
       "max    ...   1777.000000   1472.000000   1319.000000   1436.000000   \n",
       "\n",
       "               X174          X175          X176          X177          X178  \\\n",
       "count  11500.000000  11500.000000  11500.000000  11500.000000  11500.000000   \n",
       "mean     -13.363304    -13.045043    -12.705130    -12.426000    -12.195652   \n",
       "std      167.257290    164.241019    162.895832    162.886311    164.852015   \n",
       "min    -1866.000000  -1863.000000  -1781.000000  -1727.000000  -1829.000000   \n",
       "25%      -55.000000    -56.000000    -55.000000    -55.000000    -55.000000   \n",
       "50%      -10.000000     -9.000000     -9.000000     -9.000000     -9.000000   \n",
       "75%       34.000000     34.000000     34.000000     34.000000     34.000000   \n",
       "max     1733.000000   1958.000000   2047.000000   2047.000000   1915.000000   \n",
       "\n",
       "                  y  \n",
       "count  11500.000000  \n",
       "mean       3.000000  \n",
       "std        1.414275  \n",
       "min        1.000000  \n",
       "25%        2.000000  \n",
       "50%        3.000000  \n",
       "75%        4.000000  \n",
       "max        5.000000  \n",
       "\n",
       "[8 rows x 179 columns]"
      ]
     },
     "execution_count": 8,
     "metadata": {},
     "output_type": "execute_result"
    }
   ],
   "source": [
    "dataset.describe()"
   ]
  },
  {
   "cell_type": "code",
   "execution_count": 9,
   "metadata": {},
   "outputs": [
    {
     "data": {
      "image/png": "[encoded data removed]",
      "text/plain": [
       "<Figure size 432x288 with 1 Axes>"
      ]
     },
     "metadata": {
      "needs_background": "light"
     },
     "output_type": "display_data"
    }
   ],
   "source": [
    "sns.countplot(dataset['y'], label='count')\n",
    "plt.show()"
   ]
  },
  {
   "cell_type": "code",
   "execution_count": 10,
   "metadata": {},
   "outputs": [
    {
     "data": {
      "text/plain": [
       "<matplotlib.axes._subplots.AxesSubplot at 0x1848217f808>"
      ]
     },
     "execution_count": 10,
     "metadata": {},
     "output_type": "execute_result"
    },
    {
     "data": {
      "image/png": "[encoded data removed]",
      "text/plain": [
       "<Figure size 432x288 with 1 Axes>"
      ]
     },
     "metadata": {
      "needs_background": "light"
     },
     "output_type": "display_data"
    }
   ],
   "source": [
    "sns.countplot(x = 'y', data=dataset)"
   ]
  },
  {
   "cell_type": "code",
   "execution_count": 11,
   "metadata": {},
   "outputs": [],
   "source": [
    "# sns.pairplot(dataset, palette=True)"
   ]
  },
  {
   "cell_type": "code",
   "execution_count": 12,
   "metadata": {},
   "outputs": [],
   "source": [
    "# sns.heatmap(dataset.corr(), annot=True)"
   ]
  },
  {
   "cell_type": "code",
   "execution_count": 13,
   "metadata": {},
   "outputs": [],
   "source": [
    "X = dataset.iloc[:,1:179].values\n",
    "y = dataset.iloc[:,179:].values\n",
    "for i in range(len(y)):\n",
    "    if y[i] == 1:\n",
    "        y[i] = 1\n",
    "    else:\n",
    "        y[i] = 0"
   ]
  },
  {
   "cell_type": "code",
   "execution_count": 14,
   "metadata": {},
   "outputs": [
    {
     "data": {
      "text/plain": [
       "(11500, 178)"
      ]
     },
     "execution_count": 14,
     "metadata": {},
     "output_type": "execute_result"
    }
   ],
   "source": [
    "X.shape"
   ]
  },
  {
   "cell_type": "code",
   "execution_count": 15,
   "metadata": {},
   "outputs": [
    {
     "data": {
      "text/plain": [
       "(11500, 1)"
      ]
     },
     "execution_count": 15,
     "metadata": {},
     "output_type": "execute_result"
    }
   ],
   "source": [
    "y.shape"
   ]
  },
  {
   "cell_type": "code",
   "execution_count": 16,
   "metadata": {},
   "outputs": [],
   "source": [
    "from sklearn.model_selection import train_test_split\n",
    "X_train, X_test, y_train, y_test = train_test_split(X, y, train_size = 0.8)"
   ]
  },
  {
   "cell_type": "code",
   "execution_count": 17,
   "metadata": {},
   "outputs": [
    {
     "data": {
      "text/plain": [
       "(9200, 178)"
      ]
     },
     "execution_count": 17,
     "metadata": {},
     "output_type": "execute_result"
    }
   ],
   "source": [
    "X_train.shape"
   ]
  },
  {
   "cell_type": "code",
   "execution_count": 18,
   "metadata": {},
   "outputs": [
    {
     "data": {
      "text/plain": [
       "(9200, 1)"
      ]
     },
     "execution_count": 18,
     "metadata": {},
     "output_type": "execute_result"
    }
   ],
   "source": [
    "y_train.shape"
   ]
  },
  {
   "cell_type": "code",
   "execution_count": 19,
   "metadata": {},
   "outputs": [
    {
     "data": {
      "text/plain": [
       "(2300, 178)"
      ]
     },
     "execution_count": 19,
     "metadata": {},
     "output_type": "execute_result"
    }
   ],
   "source": [
    "X_test.shape"
   ]
  },
  {
   "cell_type": "code",
   "execution_count": 20,
   "metadata": {},
   "outputs": [
    {
     "data": {
      "text/plain": [
       "(2300, 1)"
      ]
     },
     "execution_count": 20,
     "metadata": {},
     "output_type": "execute_result"
    }
   ],
   "source": [
    "y_test.shape"
   ]
  },
  {
   "cell_type": "code",
   "execution_count": 21,
   "metadata": {},
   "outputs": [
    {
     "name": "stdout",
     "output_type": "stream",
     "text": [
      "(9200, 178)\n",
      "(2300, 178)\n"
     ]
    }
   ],
   "source": [
    "print(X_train.shape)\n",
    "print(X_test.shape)"
   ]
  },
  {
   "cell_type": "code",
   "execution_count": 22,
   "metadata": {},
   "outputs": [
    {
     "data": {
      "text/plain": [
       "array([[  20,   -2,  -22, ...,   51,   55,   62],\n",
       "       [  59,   37,   25, ..., -165, -163, -158],\n",
       "       [ -57,  -63,  -55, ...,  -96, -101, -100],\n",
       "       ...,\n",
       "       [-277, -283, -237, ..., -425, -503, -463],\n",
       "       [  29,   31,   38, ...,  -97,  -83,  -67],\n",
       "       [ -39,  -62,  -97, ...,  -44,  -97, -140]], dtype=int64)"
      ]
     },
     "execution_count": 22,
     "metadata": {},
     "output_type": "execute_result"
    }
   ],
   "source": [
    "X_train"
   ]
  },
  {
   "cell_type": "code",
   "execution_count": 23,
   "metadata": {},
   "outputs": [
    {
     "data": {
      "text/plain": [
       "array([[0],\n",
       "       [1],\n",
       "       [0],\n",
       "       ...,\n",
       "       [1],\n",
       "       [0],\n",
       "       [0]], dtype=int64)"
      ]
     },
     "execution_count": 23,
     "metadata": {},
     "output_type": "execute_result"
    }
   ],
   "source": [
    "y_train"
   ]
  },
  {
   "cell_type": "code",
   "execution_count": 24,
   "metadata": {},
   "outputs": [],
   "source": [
    "##from sklearn.preprocessing import MinMaxScaler\n",
    "##sc= MinMaxScaler()\n",
    "##X_train = sc.fit_transform(X_train)\n",
    "##X_test = sc.fit_transform(X_test)"
   ]
  },
  {
   "cell_type": "code",
   "execution_count": 25,
   "metadata": {},
   "outputs": [
    {
     "data": {
      "text/plain": [
       "array([[ -27,  -35,  -43, ...,   -8,  -18,  -22],\n",
       "       [  -7,   10,   24, ...,  -51,  -51,  -33],\n",
       "       [  45,   58,   47, ...,  -21,    7,   20],\n",
       "       ...,\n",
       "       [  43,   41,   48, ...,  -45,  -49,  -47],\n",
       "       [ -38,  -27,   -4, ...,  -59,  -44,  -39],\n",
       "       [-526, -586, -576, ...,  185,  178,  169]], dtype=int64)"
      ]
     },
     "execution_count": 25,
     "metadata": {},
     "output_type": "execute_result"
    }
   ],
   "source": [
    "X_test"
   ]
  },
  {
   "cell_type": "code",
   "execution_count": 26,
   "metadata": {},
   "outputs": [],
   "source": [
    "from sklearn.preprocessing import StandardScaler\n",
    "sc= StandardScaler()\n",
    "X_train = sc.fit_transform(X_train)\n",
    "X_test = sc.fit_transform(X_test)"
   ]
  },
  {
   "cell_type": "code",
   "execution_count": 27,
   "metadata": {},
   "outputs": [
    {
     "data": {
      "text/plain": [
       "(9200, 178)"
      ]
     },
     "execution_count": 27,
     "metadata": {},
     "output_type": "execute_result"
    }
   ],
   "source": [
    "X_train.shape"
   ]
  },
  {
   "cell_type": "code",
   "execution_count": 28,
   "metadata": {},
   "outputs": [
    {
     "data": {
      "text/plain": [
       "(2300, 178)"
      ]
     },
     "execution_count": 28,
     "metadata": {},
     "output_type": "execute_result"
    }
   ],
   "source": [
    "X_test.shape"
   ]
  },
  {
   "cell_type": "code",
   "execution_count": 29,
   "metadata": {},
   "outputs": [
    {
     "data": {
      "text/plain": [
       "array([[-0.08803362, -0.12340088, -0.16101701, ...,  0.05508223,\n",
       "        -0.01667473, -0.05644288],\n",
       "       [ 0.03947501,  0.15467425,  0.24673822, ..., -0.19823711,\n",
       "        -0.21804501, -0.12453066],\n",
       "       [ 0.37099743,  0.45128772,  0.3867139 , ..., -0.02150269,\n",
       "         0.13587851,  0.20352863],\n",
       "       ...,\n",
       "       [ 0.35824657,  0.34623712,  0.3927998 , ..., -0.16289022,\n",
       "        -0.20584075, -0.21118783],\n",
       "       [-0.15816336, -0.0739653 ,  0.07633305, ..., -0.24536629,\n",
       "        -0.1753301 , -0.16166945],\n",
       "       [-3.26937379, -3.52827635, -3.40480121, ...,  1.19207366,\n",
       "         1.17934267,  1.12580853]])"
      ]
     },
     "execution_count": 29,
     "metadata": {},
     "output_type": "execute_result"
    }
   ],
   "source": [
    "X_test"
   ]
  },
  {
   "cell_type": "code",
   "execution_count": 30,
   "metadata": {},
   "outputs": [
    {
     "data": {
      "text/html": [
       "<div>\n",
       "<style scoped>\n",
       "    .dataframe tbody tr th:only-of-type {\n",
       "        vertical-align: middle;\n",
       "    }\n",
       "\n",
       "    .dataframe tbody tr th {\n",
       "        vertical-align: top;\n",
       "    }\n",
       "\n",
       "    .dataframe thead th {\n",
       "        text-align: right;\n",
       "    }\n",
       "</style>\n",
       "<table border=\"1\" class=\"dataframe\">\n",
       "  <thead>\n",
       "    <tr style=\"text-align: right;\">\n",
       "      <th></th>\n",
       "      <th>0</th>\n",
       "      <th>1</th>\n",
       "      <th>2</th>\n",
       "      <th>3</th>\n",
       "      <th>4</th>\n",
       "      <th>5</th>\n",
       "      <th>6</th>\n",
       "      <th>7</th>\n",
       "      <th>8</th>\n",
       "      <th>9</th>\n",
       "      <th>...</th>\n",
       "      <th>168</th>\n",
       "      <th>169</th>\n",
       "      <th>170</th>\n",
       "      <th>171</th>\n",
       "      <th>172</th>\n",
       "      <th>173</th>\n",
       "      <th>174</th>\n",
       "      <th>175</th>\n",
       "      <th>176</th>\n",
       "      <th>177</th>\n",
       "    </tr>\n",
       "  </thead>\n",
       "  <tbody>\n",
       "    <tr>\n",
       "      <th>0</th>\n",
       "      <td>-0.088034</td>\n",
       "      <td>-0.123401</td>\n",
       "      <td>-0.161017</td>\n",
       "      <td>-0.220044</td>\n",
       "      <td>-0.259188</td>\n",
       "      <td>-0.294606</td>\n",
       "      <td>-0.296203</td>\n",
       "      <td>-0.286066</td>\n",
       "      <td>-0.223908</td>\n",
       "      <td>-0.143610</td>\n",
       "      <td>...</td>\n",
       "      <td>0.183188</td>\n",
       "      <td>0.199475</td>\n",
       "      <td>0.217578</td>\n",
       "      <td>0.204351</td>\n",
       "      <td>0.160225</td>\n",
       "      <td>0.143725</td>\n",
       "      <td>0.093065</td>\n",
       "      <td>0.055082</td>\n",
       "      <td>-0.016675</td>\n",
       "      <td>-0.056443</td>\n",
       "    </tr>\n",
       "    <tr>\n",
       "      <th>1</th>\n",
       "      <td>0.039475</td>\n",
       "      <td>0.154674</td>\n",
       "      <td>0.246738</td>\n",
       "      <td>0.287035</td>\n",
       "      <td>0.384487</td>\n",
       "      <td>0.398548</td>\n",
       "      <td>0.358450</td>\n",
       "      <td>0.369079</td>\n",
       "      <td>0.358680</td>\n",
       "      <td>0.264093</td>\n",
       "      <td>...</td>\n",
       "      <td>0.189220</td>\n",
       "      <td>0.156635</td>\n",
       "      <td>-0.037492</td>\n",
       "      <td>-0.265558</td>\n",
       "      <td>-0.435752</td>\n",
       "      <td>-0.396101</td>\n",
       "      <td>-0.250828</td>\n",
       "      <td>-0.198237</td>\n",
       "      <td>-0.218045</td>\n",
       "      <td>-0.124531</td>\n",
       "    </tr>\n",
       "    <tr>\n",
       "      <th>2</th>\n",
       "      <td>0.370997</td>\n",
       "      <td>0.451288</td>\n",
       "      <td>0.386714</td>\n",
       "      <td>0.262597</td>\n",
       "      <td>0.214103</td>\n",
       "      <td>0.230118</td>\n",
       "      <td>0.313078</td>\n",
       "      <td>0.189235</td>\n",
       "      <td>0.187703</td>\n",
       "      <td>0.050833</td>\n",
       "      <td>...</td>\n",
       "      <td>-0.148541</td>\n",
       "      <td>-0.167725</td>\n",
       "      <td>-0.087262</td>\n",
       "      <td>-0.058066</td>\n",
       "      <td>-0.009219</td>\n",
       "      <td>-0.106300</td>\n",
       "      <td>-0.107539</td>\n",
       "      <td>-0.021503</td>\n",
       "      <td>0.135879</td>\n",
       "      <td>0.203529</td>\n",
       "    </tr>\n",
       "    <tr>\n",
       "      <th>3</th>\n",
       "      <td>-0.336675</td>\n",
       "      <td>-0.228451</td>\n",
       "      <td>-0.167103</td>\n",
       "      <td>-0.134513</td>\n",
       "      <td>-0.063561</td>\n",
       "      <td>-0.029005</td>\n",
       "      <td>-0.011008</td>\n",
       "      <td>-0.041992</td>\n",
       "      <td>-0.103591</td>\n",
       "      <td>-0.187516</td>\n",
       "      <td>...</td>\n",
       "      <td>-0.202824</td>\n",
       "      <td>-0.290125</td>\n",
       "      <td>-0.305005</td>\n",
       "      <td>-0.216737</td>\n",
       "      <td>-0.184507</td>\n",
       "      <td>-0.094935</td>\n",
       "      <td>0.007092</td>\n",
       "      <td>0.119885</td>\n",
       "      <td>0.160287</td>\n",
       "      <td>0.135441</td>\n",
       "    </tr>\n",
       "    <tr>\n",
       "      <th>4</th>\n",
       "      <td>0.689769</td>\n",
       "      <td>0.315340</td>\n",
       "      <td>-0.002784</td>\n",
       "      <td>-0.183388</td>\n",
       "      <td>-0.315982</td>\n",
       "      <td>-0.223347</td>\n",
       "      <td>-0.082306</td>\n",
       "      <td>-0.176875</td>\n",
       "      <td>-0.299898</td>\n",
       "      <td>-0.243967</td>\n",
       "      <td>...</td>\n",
       "      <td>0.327943</td>\n",
       "      <td>0.425915</td>\n",
       "      <td>0.248684</td>\n",
       "      <td>0.131118</td>\n",
       "      <td>0.084268</td>\n",
       "      <td>0.058489</td>\n",
       "      <td>0.012824</td>\n",
       "      <td>0.143449</td>\n",
       "      <td>0.428781</td>\n",
       "      <td>0.618245</td>\n",
       "    </tr>\n",
       "    <tr>\n",
       "      <th>...</th>\n",
       "      <td>...</td>\n",
       "      <td>...</td>\n",
       "      <td>...</td>\n",
       "      <td>...</td>\n",
       "      <td>...</td>\n",
       "      <td>...</td>\n",
       "      <td>...</td>\n",
       "      <td>...</td>\n",
       "      <td>...</td>\n",
       "      <td>...</td>\n",
       "      <td>...</td>\n",
       "      <td>...</td>\n",
       "      <td>...</td>\n",
       "      <td>...</td>\n",
       "      <td>...</td>\n",
       "      <td>...</td>\n",
       "      <td>...</td>\n",
       "      <td>...</td>\n",
       "      <td>...</td>\n",
       "      <td>...</td>\n",
       "      <td>...</td>\n",
       "    </tr>\n",
       "    <tr>\n",
       "      <th>2295</th>\n",
       "      <td>-1.535257</td>\n",
       "      <td>-1.767134</td>\n",
       "      <td>-1.840725</td>\n",
       "      <td>-1.759610</td>\n",
       "      <td>-1.439258</td>\n",
       "      <td>-1.065497</td>\n",
       "      <td>-0.853629</td>\n",
       "      <td>-0.864136</td>\n",
       "      <td>-1.047131</td>\n",
       "      <td>-1.147186</td>\n",
       "      <td>...</td>\n",
       "      <td>-0.438051</td>\n",
       "      <td>-0.541045</td>\n",
       "      <td>-0.908464</td>\n",
       "      <td>-1.156555</td>\n",
       "      <td>-1.224546</td>\n",
       "      <td>-0.970021</td>\n",
       "      <td>-0.399848</td>\n",
       "      <td>0.326075</td>\n",
       "      <td>1.032892</td>\n",
       "      <td>1.435298</td>\n",
       "    </tr>\n",
       "    <tr>\n",
       "      <th>2296</th>\n",
       "      <td>1.697087</td>\n",
       "      <td>2.051765</td>\n",
       "      <td>1.944704</td>\n",
       "      <td>1.600554</td>\n",
       "      <td>1.286895</td>\n",
       "      <td>0.852013</td>\n",
       "      <td>0.488084</td>\n",
       "      <td>0.041506</td>\n",
       "      <td>-0.464543</td>\n",
       "      <td>-1.040556</td>\n",
       "      <td>...</td>\n",
       "      <td>-0.842157</td>\n",
       "      <td>-0.743005</td>\n",
       "      <td>-0.609845</td>\n",
       "      <td>-0.399818</td>\n",
       "      <td>-0.289679</td>\n",
       "      <td>-0.134712</td>\n",
       "      <td>0.133186</td>\n",
       "      <td>0.467463</td>\n",
       "      <td>0.813215</td>\n",
       "      <td>0.989633</td>\n",
       "    </tr>\n",
       "    <tr>\n",
       "      <th>2297</th>\n",
       "      <td>0.358247</td>\n",
       "      <td>0.346237</td>\n",
       "      <td>0.392800</td>\n",
       "      <td>0.317582</td>\n",
       "      <td>0.359245</td>\n",
       "      <td>0.392070</td>\n",
       "      <td>0.501047</td>\n",
       "      <td>0.465424</td>\n",
       "      <td>0.403008</td>\n",
       "      <td>0.295455</td>\n",
       "      <td>...</td>\n",
       "      <td>0.062559</td>\n",
       "      <td>0.205595</td>\n",
       "      <td>0.198914</td>\n",
       "      <td>0.088399</td>\n",
       "      <td>-0.038434</td>\n",
       "      <td>-0.089253</td>\n",
       "      <td>-0.170586</td>\n",
       "      <td>-0.162890</td>\n",
       "      <td>-0.205841</td>\n",
       "      <td>-0.211188</td>\n",
       "    </tr>\n",
       "    <tr>\n",
       "      <th>2298</th>\n",
       "      <td>-0.158163</td>\n",
       "      <td>-0.073965</td>\n",
       "      <td>0.076333</td>\n",
       "      <td>0.146519</td>\n",
       "      <td>0.220413</td>\n",
       "      <td>0.230118</td>\n",
       "      <td>0.280669</td>\n",
       "      <td>0.253465</td>\n",
       "      <td>0.276358</td>\n",
       "      <td>0.295455</td>\n",
       "      <td>...</td>\n",
       "      <td>0.219377</td>\n",
       "      <td>-0.069805</td>\n",
       "      <td>-0.280120</td>\n",
       "      <td>-0.424229</td>\n",
       "      <td>-0.406537</td>\n",
       "      <td>-0.379054</td>\n",
       "      <td>-0.336801</td>\n",
       "      <td>-0.245366</td>\n",
       "      <td>-0.175330</td>\n",
       "      <td>-0.161669</td>\n",
       "    </tr>\n",
       "    <tr>\n",
       "      <th>2299</th>\n",
       "      <td>-3.269374</td>\n",
       "      <td>-3.528276</td>\n",
       "      <td>-3.404801</td>\n",
       "      <td>-3.005925</td>\n",
       "      <td>-2.247007</td>\n",
       "      <td>-1.253361</td>\n",
       "      <td>-0.160087</td>\n",
       "      <td>0.523231</td>\n",
       "      <td>0.668972</td>\n",
       "      <td>0.345634</td>\n",
       "      <td>...</td>\n",
       "      <td>1.317100</td>\n",
       "      <td>1.350034</td>\n",
       "      <td>1.380947</td>\n",
       "      <td>1.333354</td>\n",
       "      <td>1.264536</td>\n",
       "      <td>1.217693</td>\n",
       "      <td>1.210718</td>\n",
       "      <td>1.192074</td>\n",
       "      <td>1.179343</td>\n",
       "      <td>1.125809</td>\n",
       "    </tr>\n",
       "  </tbody>\n",
       "</table>\n",
       "<p>2300 rows × 178 columns</p>\n",
       "</div>"
      ],
      "text/plain": [
       "           0         1         2         3         4         5         6    \\\n",
       "0    -0.088034 -0.123401 -0.161017 -0.220044 -0.259188 -0.294606 -0.296203   \n",
       "1     0.039475  0.154674  0.246738  0.287035  0.384487  0.398548  0.358450   \n",
       "2     0.370997  0.451288  0.386714  0.262597  0.214103  0.230118  0.313078   \n",
       "3    -0.336675 -0.228451 -0.167103 -0.134513 -0.063561 -0.029005 -0.011008   \n",
       "4     0.689769  0.315340 -0.002784 -0.183388 -0.315982 -0.223347 -0.082306   \n",
       "...        ...       ...       ...       ...       ...       ...       ...   \n",
       "2295 -1.535257 -1.767134 -1.840725 -1.759610 -1.439258 -1.065497 -0.853629   \n",
       "2296  1.697087  2.051765  1.944704  1.600554  1.286895  0.852013  0.488084   \n",
       "2297  0.358247  0.346237  0.392800  0.317582  0.359245  0.392070  0.501047   \n",
       "2298 -0.158163 -0.073965  0.076333  0.146519  0.220413  0.230118  0.280669   \n",
       "2299 -3.269374 -3.528276 -3.404801 -3.005925 -2.247007 -1.253361 -0.160087   \n",
       "\n",
       "           7         8         9    ...       168       169       170  \\\n",
       "0    -0.286066 -0.223908 -0.143610  ...  0.183188  0.199475  0.217578   \n",
       "1     0.369079  0.358680  0.264093  ...  0.189220  0.156635 -0.037492   \n",
       "2     0.189235  0.187703  0.050833  ... -0.148541 -0.167725 -0.087262   \n",
       "3    -0.041992 -0.103591 -0.187516  ... -0.202824 -0.290125 -0.305005   \n",
       "4    -0.176875 -0.299898 -0.243967  ...  0.327943  0.425915  0.248684   \n",
       "...        ...       ...       ...  ...       ...       ...       ...   \n",
       "2295 -0.864136 -1.047131 -1.147186  ... -0.438051 -0.541045 -0.908464   \n",
       "2296  0.041506 -0.464543 -1.040556  ... -0.842157 -0.743005 -0.609845   \n",
       "2297  0.465424  0.403008  0.295455  ...  0.062559  0.205595  0.198914   \n",
       "2298  0.253465  0.276358  0.295455  ...  0.219377 -0.069805 -0.280120   \n",
       "2299  0.523231  0.668972  0.345634  ...  1.317100  1.350034  1.380947   \n",
       "\n",
       "           171       172       173       174       175       176       177  \n",
       "0     0.204351  0.160225  0.143725  0.093065  0.055082 -0.016675 -0.056443  \n",
       "1    -0.265558 -0.435752 -0.396101 -0.250828 -0.198237 -0.218045 -0.124531  \n",
       "2    -0.058066 -0.009219 -0.106300 -0.107539 -0.021503  0.135879  0.203529  \n",
       "3    -0.216737 -0.184507 -0.094935  0.007092  0.119885  0.160287  0.135441  \n",
       "4     0.131118  0.084268  0.058489  0.012824  0.143449  0.428781  0.618245  \n",
       "...        ...       ...       ...       ...       ...       ...       ...  \n",
       "2295 -1.156555 -1.224546 -0.970021 -0.399848  0.326075  1.032892  1.435298  \n",
       "2296 -0.399818 -0.289679 -0.134712  0.133186  0.467463  0.813215  0.989633  \n",
       "2297  0.088399 -0.038434 -0.089253 -0.170586 -0.162890 -0.205841 -0.211188  \n",
       "2298 -0.424229 -0.406537 -0.379054 -0.336801 -0.245366 -0.175330 -0.161669  \n",
       "2299  1.333354  1.264536  1.217693  1.210718  1.192074  1.179343  1.125809  \n",
       "\n",
       "[2300 rows x 178 columns]"
      ]
     },
     "execution_count": 30,
     "metadata": {},
     "output_type": "execute_result"
    }
   ],
   "source": [
    "X_test_df = pd.DataFrame(X_test)\n",
    "X_test_df"
   ]
  },
  {
   "cell_type": "code",
   "execution_count": 31,
   "metadata": {},
   "outputs": [],
   "source": [
    "X_test_scaled = pd.DataFrame(X_test)\n",
    "X_test_scaled.to_csv(\"X_test_scaled.csv\")\n",
    "\n",
    "y_test_scaled = pd.DataFrame(y_test)\n",
    "y_test_scaled.to_csv(\"y_test_scaled.csv\")"
   ]
  },
  {
   "cell_type": "code",
   "execution_count": 32,
   "metadata": {},
   "outputs": [
    {
     "name": "stderr",
     "output_type": "stream",
     "text": [
      "Using TensorFlow backend.\n"
     ]
    }
   ],
   "source": [
    "import tensorflow as tf\n",
    "import keras\n",
    "from keras.models import Sequential\n",
    "from keras.layers import Dense"
   ]
  },
  {
   "cell_type": "code",
   "execution_count": 33,
   "metadata": {},
   "outputs": [
    {
     "name": "stderr",
     "output_type": "stream",
     "text": [
      "E:\\Anaconda\\lib\\site-packages\\ipykernel_launcher.py:2: UserWarning: Update your `Dense` call to the Keras 2 API: `Dense(units=32, activation=\"relu\", input_dim=178, kernel_initializer=\"uniform\")`\n",
      "  \n",
      "E:\\Anaconda\\lib\\site-packages\\ipykernel_launcher.py:3: UserWarning: Update your `Dense` call to the Keras 2 API: `Dense(units=32, activation=\"relu\", kernel_initializer=\"uniform\")`\n",
      "  This is separate from the ipykernel package so we can avoid doing imports until\n",
      "E:\\Anaconda\\lib\\site-packages\\ipykernel_launcher.py:6: UserWarning: Update your `Dense` call to the Keras 2 API: `Dense(units=1, activation=\"sigmoid\", kernel_initializer=\"uniform\")`\n",
      "  \n"
     ]
    }
   ],
   "source": [
    "ANN_Model = Sequential()\n",
    "ANN_Model.add(Dense(units=32, init = 'uniform', activation = 'relu', input_dim = 178))\n",
    "ANN_Model.add(Dense(units=32, init = 'uniform', activation = 'relu'))\n",
    "#classifier.add(Dense(units=32, init = 'uniform', activation = 'relu'))\n",
    "#classifier.add(Dense(units=32, init = 'uniform', activation = 'relu'))\n",
    "ANN_Model.add(Dense(units=1, init = 'uniform', activation = 'sigmoid'))"
   ]
  },
  {
   "cell_type": "code",
   "execution_count": 34,
   "metadata": {},
   "outputs": [],
   "source": [
    "ANN_Model.compile(optimizer='Adam', loss='binary_crossentropy', metrics = ['accuracy']) ##check for dropout"
   ]
  },
  {
   "cell_type": "code",
   "execution_count": 35,
   "metadata": {},
   "outputs": [
    {
     "name": "stdout",
     "output_type": "stream",
     "text": [
      "Model: \"sequential_1\"\n",
      "_________________________________________________________________\n",
      "Layer (type)                 Output Shape              Param #   \n",
      "=================================================================\n",
      "dense_1 (Dense)              (None, 32)                5728      \n",
      "_________________________________________________________________\n",
      "dense_2 (Dense)              (None, 32)                1056      \n",
      "_________________________________________________________________\n",
      "dense_3 (Dense)              (None, 1)                 33        \n",
      "=================================================================\n",
      "Total params: 6,817\n",
      "Trainable params: 6,817\n",
      "Non-trainable params: 0\n",
      "_________________________________________________________________\n"
     ]
    }
   ],
   "source": [
    "ANN_Model.summary()"
   ]
  },
  {
   "cell_type": "code",
   "execution_count": 36,
   "metadata": {},
   "outputs": [
    {
     "name": "stderr",
     "output_type": "stream",
     "text": [
      "E:\\Anaconda\\lib\\site-packages\\ipykernel_launcher.py:1: UserWarning: The `nb_epoch` argument in `fit` has been renamed `epochs`.\n",
      "  \"\"\"Entry point for launching an IPython kernel.\n"
     ]
    },
    {
     "name": "stdout",
     "output_type": "stream",
     "text": [
      "Train on 9200 samples, validate on 2300 samples\n",
      "Epoch 1/50\n",
      "9200/9200 [==============================] - 1s 101us/step - loss: 0.2239 - accuracy: 0.9425 - val_loss: 0.1307 - val_accuracy: 0.9622\n",
      "Epoch 2/50\n",
      "9200/9200 [==============================] - 1s 82us/step - loss: 0.1050 - accuracy: 0.9683 - val_loss: 0.1269 - val_accuracy: 0.9591\n",
      "Epoch 3/50\n",
      "9200/9200 [==============================] - 1s 83us/step - loss: 0.0850 - accuracy: 0.9725 - val_loss: 0.1107 - val_accuracy: 0.9635\n",
      "Epoch 4/50\n",
      "9200/9200 [==============================] - 1s 82us/step - loss: 0.0736 - accuracy: 0.9770 - val_loss: 0.0951 - val_accuracy: 0.9626\n",
      "Epoch 5/50\n",
      "9200/9200 [==============================] - 1s 82us/step - loss: 0.0680 - accuracy: 0.9772 - val_loss: 0.0944 - val_accuracy: 0.9691\n",
      "Epoch 6/50\n",
      "9200/9200 [==============================] - 1s 81us/step - loss: 0.0612 - accuracy: 0.9807 - val_loss: 0.0965 - val_accuracy: 0.9657\n",
      "Epoch 7/50\n",
      "9200/9200 [==============================] - 1s 83us/step - loss: 0.0568 - accuracy: 0.9810 - val_loss: 0.0912 - val_accuracy: 0.9657\n",
      "Epoch 8/50\n",
      "9200/9200 [==============================] - 1s 82us/step - loss: 0.0539 - accuracy: 0.9827 - val_loss: 0.1063 - val_accuracy: 0.9635\n",
      "Epoch 9/50\n",
      "9200/9200 [==============================] - 1s 82us/step - loss: 0.0506 - accuracy: 0.9813 - val_loss: 0.1009 - val_accuracy: 0.9670\n",
      "Epoch 10/50\n",
      "9200/9200 [==============================] - 1s 82us/step - loss: 0.0476 - accuracy: 0.9836 - val_loss: 0.1001 - val_accuracy: 0.9661\n",
      "Epoch 11/50\n",
      "9200/9200 [==============================] - 1s 82us/step - loss: 0.0438 - accuracy: 0.9851 - val_loss: 0.0966 - val_accuracy: 0.9639\n",
      "Epoch 12/50\n",
      "9200/9200 [==============================] - 1s 83us/step - loss: 0.0410 - accuracy: 0.9864 - val_loss: 0.1082 - val_accuracy: 0.9635\n",
      "Epoch 13/50\n",
      "9200/9200 [==============================] - 1s 82us/step - loss: 0.0398 - accuracy: 0.9865 - val_loss: 0.1020 - val_accuracy: 0.9687\n",
      "Epoch 14/50\n",
      "9200/9200 [==============================] - 1s 84us/step - loss: 0.0394 - accuracy: 0.9865 - val_loss: 0.1145 - val_accuracy: 0.9665\n",
      "Epoch 15/50\n",
      "9200/9200 [==============================] - 1s 82us/step - loss: 0.0333 - accuracy: 0.9876 - val_loss: 0.0996 - val_accuracy: 0.9687\n",
      "Epoch 16/50\n",
      "9200/9200 [==============================] - 1s 82us/step - loss: 0.0333 - accuracy: 0.9874 - val_loss: 0.0956 - val_accuracy: 0.9713\n",
      "Epoch 17/50\n",
      "9200/9200 [==============================] - 1s 81us/step - loss: 0.0325 - accuracy: 0.9896 - val_loss: 0.1053 - val_accuracy: 0.9652\n",
      "Epoch 18/50\n",
      "9200/9200 [==============================] - 1s 88us/step - loss: 0.0283 - accuracy: 0.9901 - val_loss: 0.1108 - val_accuracy: 0.9639\n",
      "Epoch 19/50\n",
      "9200/9200 [==============================] - 1s 80us/step - loss: 0.0281 - accuracy: 0.9914 - val_loss: 0.1180 - val_accuracy: 0.9604\n",
      "Epoch 20/50\n",
      "9200/9200 [==============================] - 1s 86us/step - loss: 0.0297 - accuracy: 0.9915 - val_loss: 0.1095 - val_accuracy: 0.9670\n",
      "Epoch 21/50\n",
      "9200/9200 [==============================] - 1s 89us/step - loss: 0.0271 - accuracy: 0.9911 - val_loss: 0.1336 - val_accuracy: 0.9530\n",
      "Epoch 22/50\n",
      "9200/9200 [==============================] - 1s 86us/step - loss: 0.0250 - accuracy: 0.9911 - val_loss: 0.1232 - val_accuracy: 0.9661\n",
      "Epoch 23/50\n",
      "9200/9200 [==============================] - 1s 86us/step - loss: 0.0214 - accuracy: 0.9929 - val_loss: 0.1445 - val_accuracy: 0.9609\n",
      "Epoch 24/50\n",
      "9200/9200 [==============================] - 1s 83us/step - loss: 0.0260 - accuracy: 0.9911 - val_loss: 0.1175 - val_accuracy: 0.9700\n",
      "Epoch 25/50\n",
      "9200/9200 [==============================] - 1s 84us/step - loss: 0.0179 - accuracy: 0.9939 - val_loss: 0.1595 - val_accuracy: 0.9617\n",
      "Epoch 26/50\n",
      "9200/9200 [==============================] - 1s 84us/step - loss: 0.0232 - accuracy: 0.9926 - val_loss: 0.1356 - val_accuracy: 0.9661\n",
      "Epoch 27/50\n",
      "9200/9200 [==============================] - 1s 83us/step - loss: 0.0162 - accuracy: 0.9954 - val_loss: 0.1504 - val_accuracy: 0.9657\n",
      "Epoch 28/50\n",
      "9200/9200 [==============================] - 1s 81us/step - loss: 0.0213 - accuracy: 0.9930 - val_loss: 0.1575 - val_accuracy: 0.9635\n",
      "Epoch 29/50\n",
      "9200/9200 [==============================] - 1s 82us/step - loss: 0.0157 - accuracy: 0.9951 - val_loss: 0.1564 - val_accuracy: 0.9648\n",
      "Epoch 30/50\n",
      "9200/9200 [==============================] - 1s 81us/step - loss: 0.0158 - accuracy: 0.9954 - val_loss: 0.1645 - val_accuracy: 0.9665\n",
      "Epoch 31/50\n",
      "9200/9200 [==============================] - 1s 83us/step - loss: 0.0187 - accuracy: 0.9928 - val_loss: 0.1593 - val_accuracy: 0.9648\n",
      "Epoch 32/50\n",
      "9200/9200 [==============================] - 1s 83us/step - loss: 0.0138 - accuracy: 0.9958 - val_loss: 0.1615 - val_accuracy: 0.9691\n",
      "Epoch 33/50\n",
      "9200/9200 [==============================] - 1s 82us/step - loss: 0.0152 - accuracy: 0.9948 - val_loss: 0.1531 - val_accuracy: 0.9613\n",
      "Epoch 34/50\n",
      "9200/9200 [==============================] - 1s 83us/step - loss: 0.0126 - accuracy: 0.9963 - val_loss: 0.1761 - val_accuracy: 0.9609\n",
      "Epoch 35/50\n",
      "9200/9200 [==============================] - 1s 82us/step - loss: 0.0139 - accuracy: 0.9953 - val_loss: 0.1843 - val_accuracy: 0.9652\n",
      "Epoch 36/50\n",
      "9200/9200 [==============================] - 1s 82us/step - loss: 0.0181 - accuracy: 0.9933 - val_loss: 0.1463 - val_accuracy: 0.9622\n",
      "Epoch 37/50\n",
      "9200/9200 [==============================] - 1s 82us/step - loss: 0.0093 - accuracy: 0.9975 - val_loss: 0.1634 - val_accuracy: 0.9674\n",
      "Epoch 38/50\n",
      "9200/9200 [==============================] - 1s 83us/step - loss: 0.0126 - accuracy: 0.9966 - val_loss: 0.1670 - val_accuracy: 0.9661\n",
      "Epoch 39/50\n",
      "9200/9200 [==============================] - 1s 81us/step - loss: 0.0148 - accuracy: 0.9948 - val_loss: 0.1679 - val_accuracy: 0.9665\n",
      "Epoch 40/50\n",
      "9200/9200 [==============================] - 1s 78us/step - loss: 0.0090 - accuracy: 0.9967 - val_loss: 0.1764 - val_accuracy: 0.9626\n",
      "Epoch 41/50\n",
      "9200/9200 [==============================] - 1s 81us/step - loss: 0.0163 - accuracy: 0.9946 - val_loss: 0.2123 - val_accuracy: 0.9648\n",
      "Epoch 42/50\n",
      "9200/9200 [==============================] - 1s 82us/step - loss: 0.0135 - accuracy: 0.9963 - val_loss: 0.1866 - val_accuracy: 0.9648\n",
      "Epoch 43/50\n",
      "9200/9200 [==============================] - 1s 81us/step - loss: 0.0083 - accuracy: 0.9973 - val_loss: 0.1914 - val_accuracy: 0.9678\n",
      "Epoch 44/50\n",
      "9200/9200 [==============================] - 1s 84us/step - loss: 0.0077 - accuracy: 0.9971 - val_loss: 0.1932 - val_accuracy: 0.9674\n",
      "Epoch 45/50\n",
      "9200/9200 [==============================] - 1s 82us/step - loss: 0.0112 - accuracy: 0.9964 - val_loss: 0.1809 - val_accuracy: 0.9674\n",
      "Epoch 46/50\n",
      "9200/9200 [==============================] - 1s 82us/step - loss: 0.0063 - accuracy: 0.9982 - val_loss: 0.1850 - val_accuracy: 0.9683\n",
      "Epoch 47/50\n",
      "9200/9200 [==============================] - 1s 84us/step - loss: 0.0108 - accuracy: 0.9961 - val_loss: 0.1857 - val_accuracy: 0.9661\n",
      "Epoch 48/50\n",
      "9200/9200 [==============================] - 1s 82us/step - loss: 0.0099 - accuracy: 0.9971 - val_loss: 0.2086 - val_accuracy: 0.9643\n",
      "Epoch 49/50\n",
      "9200/9200 [==============================] - 1s 82us/step - loss: 0.0065 - accuracy: 0.9983 - val_loss: 0.1939 - val_accuracy: 0.9683\n",
      "Epoch 50/50\n",
      "9200/9200 [==============================] - 1s 82us/step - loss: 0.0202 - accuracy: 0.9930 - val_loss: 0.1715 - val_accuracy: 0.9674\n"
     ]
    }
   ],
   "source": [
    "history = ANN_Model.fit(X_train, y_train, batch_size=10, nb_epoch = 50, validation_data = (X_test, y_test))"
   ]
  },
  {
   "cell_type": "code",
   "execution_count": 37,
   "metadata": {},
   "outputs": [],
   "source": [
    "y_pred = ANN_Model.predict(X_test)"
   ]
  },
  {
   "cell_type": "code",
   "execution_count": 38,
   "metadata": {},
   "outputs": [
    {
     "data": {
      "text/plain": [
       "array([[3.1735192e-10],\n",
       "       [1.3511865e-08],\n",
       "       [8.7727312e-11],\n",
       "       ...,\n",
       "       [1.6340979e-11],\n",
       "       [5.4156436e-03],\n",
       "       [9.9995840e-01]], dtype=float32)"
      ]
     },
     "execution_count": 38,
     "metadata": {},
     "output_type": "execute_result"
    }
   ],
   "source": [
    "y_pred"
   ]
  },
  {
   "cell_type": "code",
   "execution_count": 39,
   "metadata": {},
   "outputs": [],
   "source": [
    "y_pred = (y_pred > 0.9)"
   ]
  },
  {
   "cell_type": "code",
   "execution_count": 40,
   "metadata": {},
   "outputs": [
    {
     "data": {
      "text/plain": [
       "array([[False],\n",
       "       [False],\n",
       "       [False],\n",
       "       ...,\n",
       "       [False],\n",
       "       [False],\n",
       "       [ True]])"
      ]
     },
     "execution_count": 40,
     "metadata": {},
     "output_type": "execute_result"
    }
   ],
   "source": [
    "y_pred"
   ]
  },
  {
   "cell_type": "code",
   "execution_count": 41,
   "metadata": {},
   "outputs": [
    {
     "name": "stdout",
     "output_type": "stream",
     "text": [
      "[[1835   22]\n",
      " [  59  384]]\n"
     ]
    },
    {
     "data": {
      "text/plain": [
       "0.9647826086956521"
      ]
     },
     "execution_count": 41,
     "metadata": {},
     "output_type": "execute_result"
    }
   ],
   "source": [
    "from sklearn.metrics import confusion_matrix, accuracy_score\n",
    "cm = confusion_matrix(y_test, y_pred)\n",
    "print(cm)\n",
    "accuracy_score(y_test, y_pred)"
   ]
  },
  {
   "cell_type": "code",
   "execution_count": 42,
   "metadata": {},
   "outputs": [
    {
     "name": "stdout",
     "output_type": "stream",
     "text": [
      "              precision    recall  f1-score   support\n",
      "\n",
      "           0       0.97      0.99      0.98      1857\n",
      "           1       0.95      0.87      0.90       443\n",
      "\n",
      "    accuracy                           0.96      2300\n",
      "   macro avg       0.96      0.93      0.94      2300\n",
      "weighted avg       0.96      0.96      0.96      2300\n",
      "\n"
     ]
    }
   ],
   "source": [
    "from sklearn.metrics import classification_report\n",
    "print(classification_report(y_test, y_pred))"
   ]
  },
  {
   "cell_type": "code",
   "execution_count": 43,
   "metadata": {},
   "outputs": [
    {
     "data": {
      "text/plain": [
       "0.9647826086956521"
      ]
     },
     "execution_count": 43,
     "metadata": {},
     "output_type": "execute_result"
    }
   ],
   "source": [
    "(1802+417)/2300"
   ]
  },
  {
   "cell_type": "code",
   "execution_count": 44,
   "metadata": {},
   "outputs": [
    {
     "data": {
      "text/plain": [
       "<matplotlib.axes._subplots.AxesSubplot at 0x1848d0872c8>"
      ]
     },
     "execution_count": 44,
     "metadata": {},
     "output_type": "execute_result"
    },
    {
     "data": {
      "image/png": "[encoded data removed]",
      "text/plain": [
       "<Figure size 432x288 with 2 Axes>"
      ]
     },
     "metadata": {
      "needs_background": "light"
     },
     "output_type": "display_data"
    }
   ],
   "source": [
    "import seaborn as sns\n",
    "sns.heatmap(cm, annot=True)"
   ]
  },
  {
   "cell_type": "code",
   "execution_count": 45,
   "metadata": {},
   "outputs": [
    {
     "data": {
      "text/plain": [
       "<matplotlib.image.AxesImage at 0x1848d362688>"
      ]
     },
     "execution_count": 45,
     "metadata": {},
     "output_type": "execute_result"
    },
    {
     "data": {
      "image/png": "[encoded data removed]",
      "text/plain": [
       "<Figure size 432x288 with 1 Axes>"
      ]
     },
     "metadata": {
      "needs_background": "light"
     },
     "output_type": "display_data"
    }
   ],
   "source": [
    "import matplotlib.pyplot as plt\n",
    "plt.imshow(cm)"
   ]
  },
  {
   "cell_type": "code",
   "execution_count": 46,
   "metadata": {},
   "outputs": [
    {
     "name": "stdout",
     "output_type": "stream",
     "text": [
      "0.01855760000000828\n"
     ]
    }
   ],
   "source": [
    "import timeit\n",
    "start_time = timeit.default_timer()\n",
    "y_pred = ANN_Model.predict(X_test)\n",
    "stop_time = timeit.default_timer()\n",
    "testing_time = stop_time - start_time\n",
    "print(testing_time)"
   ]
  },
  {
   "cell_type": "code",
   "execution_count": 47,
   "metadata": {},
   "outputs": [
    {
     "name": "stdout",
     "output_type": "stream",
     "text": [
      "0:00:00.016953\n"
     ]
    }
   ],
   "source": [
    "import datetime\n",
    "start_time = datetime.datetime.now()\n",
    "y_pred = ANN_Model.predict(X_test)\n",
    "stop_time = datetime.datetime.now()\n",
    "testing_time = stop_time - start_time\n",
    "print(testing_time)"
   ]
  },
  {
   "cell_type": "code",
   "execution_count": 48,
   "metadata": {},
   "outputs": [
    {
     "data": {
      "image/png": "[encoded data removed]",
      "text/plain": [
       "<Figure size 432x288 with 1 Axes>"
      ]
     },
     "metadata": {
      "needs_background": "light"
     },
     "output_type": "display_data"
    }
   ],
   "source": [
    "# https://machinelearningmastery.com/display-deep-learning-model-training-history-in-keras/\n",
    "# summarize history for accuracy\n",
    "plt.plot(history.history['accuracy'])\n",
    "plt.plot(history.history['val_accuracy'])\n",
    "plt.title('model accuracy')\n",
    "plt.ylabel('accuracy')\n",
    "plt.xlabel('epoch')\n",
    "plt.legend(['train', 'test'], loc='upper left')\n",
    "plt.show()"
   ]
  },
  {
   "cell_type": "code",
   "execution_count": 49,
   "metadata": {},
   "outputs": [
    {
     "data": {
      "image/png": "[encoded data removed]",
      "text/plain": [
       "<Figure size 432x288 with 1 Axes>"
      ]
     },
     "metadata": {
      "needs_background": "light"
     },
     "output_type": "display_data"
    }
   ],
   "source": [
    "#https://machinelearningmastery.com/display-deep-learning-model-training-history-in-keras/\n",
    "# summarize history for loss\n",
    "plt.plot(history.history['loss'])\n",
    "plt.plot(history.history['val_loss'])\n",
    "plt.title('model loss')\n",
    "plt.ylabel('loss')\n",
    "plt.xlabel('epoch')\n",
    "plt.legend(['train', 'test'], loc='upper left')\n",
    "plt.show()"
   ]
  },
  {
   "cell_type": "code",
   "execution_count": 50,
   "metadata": {},
   "outputs": [],
   "source": [
    "X_test_scaled = pd.DataFrame(X_test)\n",
    "X_test_scaled.to_csv(\"X_test_scaled_32.csv\")\n",
    "\n",
    "y_test_scaled = pd.DataFrame(y_test)\n",
    "y_test_scaled.to_csv(\"y_test_scaled_32.csv\")"
   ]
  },
  {
   "cell_type": "code",
   "execution_count": 51,
   "metadata": {},
   "outputs": [],
   "source": [
    "# saving the weights for different layers seperately\n",
    "\n",
    "wt = ANN_Model.get_weights()\n",
    "df1 = pd.DataFrame(wt[0])\n",
    "df1.to_csv(\"wei-1st32.csv\")\n",
    "df2 = pd.DataFrame(wt[2])\n",
    "df2.to_csv(\"wei-2nd32.csv\")\n",
    "df3 = pd.DataFrame(wt[4])\n",
    "df3.to_csv(\"wei-out32.csv\")\n"
   ]
  },
  {
   "cell_type": "code",
   "execution_count": null,
   "metadata": {},
   "outputs": [],
   "source": []
  },
  {
   "cell_type": "code",
   "execution_count": null,
   "metadata": {},
   "outputs": [],
   "source": []
  },
  {
   "cell_type": "code",
   "execution_count": null,
   "metadata": {},
   "outputs": [],
   "source": []
  },
  {
   "cell_type": "code",
   "execution_count": null,
   "metadata": {},
   "outputs": [],
   "source": []
  },
  {
   "cell_type": "code",
   "execution_count": null,
   "metadata": {},
   "outputs": [],
   "source": []
  },
  {
   "cell_type": "code",
   "execution_count": null,
   "metadata": {},
   "outputs": [],
   "source": []
  },
  {
   "cell_type": "code",
   "execution_count": null,
   "metadata": {},
   "outputs": [],
   "source": []
  },
  {
   "cell_type": "code",
   "execution_count": null,
   "metadata": {},
   "outputs": [],
   "source": []
  },
  {
   "cell_type": "code",
   "execution_count": null,
   "metadata": {},
   "outputs": [],
   "source": []
  },
  {
   "cell_type": "code",
   "execution_count": null,
   "metadata": {},
   "outputs": [],
   "source": []
  },
  {
   "cell_type": "code",
   "execution_count": null,
   "metadata": {},
   "outputs": [],
   "source": []
  }
 ],
 "metadata": {
  "kernelspec": {
   "display_name": "Python 3",
   "language": "python",
   "name": "python3"
  },
  "language_info": {
   "codemirror_mode": {
    "name": "ipython",
    "version": 3
   },
   "file_extension": ".py",
   "mimetype": "text/x-python",
   "name": "python",
   "nbconvert_exporter": "python",
   "pygments_lexer": "ipython3",
   "version": "3.7.7"
  }
 },
 "nbformat": 4,
 "nbformat_minor": 4
}
